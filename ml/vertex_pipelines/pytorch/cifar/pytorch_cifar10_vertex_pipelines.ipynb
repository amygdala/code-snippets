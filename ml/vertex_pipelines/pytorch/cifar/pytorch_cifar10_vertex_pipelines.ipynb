{
  "nbformat": 4,
  "nbformat_minor": 0,
  "metadata": {
    "colab": {
      "name": "pytorch_cifar10_vertex_pipelines.ipynb",
      "provenance": [],
      "collapsed_sections": [],
      "toc_visible": true
    },
    "kernelspec": {
      "display_name": "Python 3",
      "name": "python3"
    }
  },
  "cells": [
    {
      "cell_type": "code",
      "metadata": {
        "id": "ur8xi4C7S06n"
      },
      "source": [
        "# Copyright 2021 Google LLC\n",
        "#\n",
        "# Licensed under the Apache License, Version 2.0 (the \"License\");\n",
        "# you may not use this file except in compliance with the License.\n",
        "# You may obtain a copy of the License at\n",
        "#\n",
        "#     https://www.apache.org/licenses/LICENSE-2.0\n",
        "#\n",
        "# Unless required by applicable law or agreed to in writing, software\n",
        "# distributed under the License is distributed on an \"AS IS\" BASIS,\n",
        "# WITHOUT WARRANTIES OR CONDITIONS OF ANY KIND, either express or implied.\n",
        "# See the License for the specific language governing permissions and\n",
        "# limitations under the License."
      ],
      "execution_count": null,
      "outputs": []
    },
    {
      "cell_type": "markdown",
      "metadata": {
        "id": "JAPoU8Sm5E6e"
      },
      "source": [
        "<table align=\"left\">\n",
        "\n",
        "  <td>\n",
        "    <a href=\"https://colab.research.google.com/github/amygdala/code-snippets/blob/master/ml/vertex_pipelines/pytorch/cifar/pytorch_cifar10_vertex_pipelines.ipynb\">\n",
        "      <img src=\"https://cloud.google.com/ml-engine/images/colab-logo-32px.png\" alt=\"Colab logo\"> Run in Colab\n",
        "    </a>\n",
        "  </td>\n",
        "  <td>\n",
        "    <a href=\"https://github.com/amygdala/code-snippets/blob/master/ml/vertex_pipelines/pytorch/cifar/pytorch_cifar10_vertex_pipelines.ipynb\">\n",
        "      <img src=\"https://cloud.google.com/ml-engine/images/github-logo-32px.png\" alt=\"GitHub logo\">\n",
        "      View on GitHub\n",
        "    </a>\n",
        "  </td>\n",
        "  <td>\n",
        "    <a href=\"https://console.cloud.google.com/ai/platform/notebooks/deploy-notebook?download_url=https://raw.githubusercontent.com/amygdala/code-snippets/master/ml/vertex_pipelines/pytorch/cifar/pytorch_cifar10_vertex_pipelines.ipynb\">\n",
        "      Open in Google Cloud Notebooks\n",
        "    </a>\n",
        "  </td>\n",
        "</table>"
      ]
    },
    {
      "cell_type": "markdown",
      "metadata": {
        "id": "3yTsQctS8QLd"
      },
      "source": [
        "#  Vertex Pipelines: Pytorch resnet CIFAR10 e2e example"
      ]
    },
    {
      "cell_type": "markdown",
      "metadata": {
        "id": "tvgnzT1CKxrO"
      },
      "source": [
        "## Overview\n",
        "\n",
        "This notebook shows two variants of a PyTorch resnet [CIFAR10](https://www.cs.toronto.edu/~kriz/cifar.html) end-to-end example using [Vertex Pipelines](https://cloud.google.com/vertex-ai/docs/pipelines).  The example is in GitHub [here](https://github.com/amygdala/code-snippets/tree/master/ml/vertex_pipelines/pytorch/cifar).\n",
        "\n",
        "Thanks to the PyTorch team at Facebook for some of the underlying code and much helpful advice.\n",
        "\n",
        "The first variant trains the model directly as a Vertex Pipelines step, using 1 GPU. The second variant trains the model using Vertex AI Custom training, using (by default) 2 gpus.\n",
        "\n",
        "In both cases, after training, the model is uploaded to Vertex AI and deployed to an endpoint, so that it can be used for prediction.\n",
        "\n"
      ]
    },
    {
      "cell_type": "markdown",
      "metadata": {
        "id": "ze4-nDLfK4pw"
      },
      "source": [
        "### Set up your local development environment\n",
        "\n",
        "**If you are using Colab or Google Cloud Notebooks**, your environment already meets\n",
        "all the requirements to run this notebook. You can skip this step."
      ]
    },
    {
      "cell_type": "markdown",
      "metadata": {
        "id": "gCuSR8GkAgzl"
      },
      "source": [
        "**Otherwise**, make sure your environment meets this notebook's requirements.\n",
        "You need the following:\n",
        "\n",
        "* The Google Cloud SDK\n",
        "* Git\n",
        "* Python 3\n",
        "* virtualenv\n",
        "* Jupyter notebook running in a virtual environment with Python 3\n",
        "\n",
        "The Google Cloud guide to [Setting up a Python development\n",
        "environment](https://cloud.google.com/python/setup) and the [Jupyter\n",
        "installation guide](https://jupyter.org/install) provide detailed instructions\n",
        "for meeting these requirements. The following steps provide a condensed set of\n",
        "instructions:\n",
        "\n",
        "1. [Install and initialize the Cloud SDK.](https://cloud.google.com/sdk/docs/)\n",
        "\n",
        "1. [Install Python 3.](https://cloud.google.com/python/setup#installing_python)\n",
        "\n",
        "1. [Install\n",
        "   virtualenv](https://cloud.google.com/python/setup#installing_and_using_virtualenv)\n",
        "   and create a virtual environment that uses Python 3. Activate the virtual environment.\n",
        "\n",
        "1. To install Jupyter, run `pip install jupyter` on the\n",
        "command-line in a terminal shell.\n",
        "\n",
        "1. To launch Jupyter, run `jupyter notebook` on the command-line in a terminal shell.\n",
        "\n",
        "1. Open this notebook in the Jupyter Notebook Dashboard."
      ]
    },
    {
      "cell_type": "markdown",
      "metadata": {
        "id": "i7EUnXsZhAGF"
      },
      "source": [
        "### Install additional packages\n",
        "\n"
      ]
    },
    {
      "cell_type": "code",
      "metadata": {
        "id": "0GlP_C9mY3Gq"
      },
      "source": [
        "PROJECT_ID = 'your-project-id'  # <---CHANGE THIS"
      ],
      "execution_count": null,
      "outputs": []
    },
    {
      "cell_type": "code",
      "metadata": {
        "id": "VkWdxe4TXRHk"
      },
      "source": [
        "!gcloud config set project {PROJECT_ID}"
      ],
      "execution_count": null,
      "outputs": []
    },
    {
      "cell_type": "markdown",
      "metadata": {
        "id": "FweS1-dyu-Vx"
      },
      "source": [
        "On colab, authenticate first:"
      ]
    },
    {
      "cell_type": "code",
      "metadata": {
        "id": "kZQA0KrfXCvU"
      },
      "source": [
        "import sys\n",
        "if 'google.colab' in sys.modules:\n",
        "  from google.colab import auth\n",
        "  auth.authenticate_user()"
      ],
      "execution_count": null,
      "outputs": []
    },
    {
      "cell_type": "markdown",
      "metadata": {
        "id": "ijfOidzcdEWy"
      },
      "source": [
        "Then, install the libraries."
      ]
    },
    {
      "cell_type": "code",
      "metadata": {
        "id": "IaYsrh0Tc17L"
      },
      "source": [
        "import sys\n",
        "if 'google.colab' in sys.modules:\n",
        "  USER_FLAG = ''\n",
        "else:\n",
        "  USER_FLAG = '--user'"
      ],
      "execution_count": null,
      "outputs": []
    },
    {
      "cell_type": "code",
      "metadata": {
        "id": "8KHmtHp6VMZU"
      },
      "source": [
        "!python3 -m pip install {USER_FLAG} torch sklearn webdataset torchvision pytorch-lightning boto3 google-cloud-build --upgrade"
      ],
      "execution_count": null,
      "outputs": []
    },
    {
      "cell_type": "code",
      "metadata": {
        "id": "aR7LNYMUCVKc"
      },
      "source": [
        "!pip3 install {USER_FLAG} google-cloud-aiplatform==1.0.0 --upgrade\n",
        "!pip3 install {USER_FLAG} kfp google-cloud-pipeline-components --upgrade"
      ],
      "execution_count": null,
      "outputs": []
    },
    {
      "cell_type": "markdown",
      "metadata": {
        "id": "hhq5zEbGg0XX"
      },
      "source": [
        "### Restart the kernel\n",
        "\n",
        "After you install the additional packages, you need to restart the notebook kernel so it can find the packages."
      ]
    },
    {
      "cell_type": "code",
      "metadata": {
        "id": "EzrelQZ22IZj"
      },
      "source": [
        "# Automatically restart kernel after installs\n",
        "import os\n",
        "\n",
        "if not os.getenv(\"IS_TESTING\"):\n",
        "    # Automatically restart kernel after installs\n",
        "    import IPython\n",
        "\n",
        "    app = IPython.Application.instance()\n",
        "    app.kernel.do_shutdown(True)"
      ],
      "execution_count": null,
      "outputs": []
    },
    {
      "cell_type": "markdown",
      "metadata": {
        "id": "6GPgNN7eeX1l"
      },
      "source": [
        "Check the versions of the packages you installed.  The KFP SDK version should be >=1.6."
      ]
    },
    {
      "cell_type": "code",
      "metadata": {
        "id": "NN0mULkEeb84"
      },
      "source": [
        "!python3 -c \"import kfp; print('KFP SDK version: {}'.format(kfp.__version__))\""
      ],
      "execution_count": null,
      "outputs": []
    },
    {
      "cell_type": "markdown",
      "metadata": {
        "id": "lWEdiXsJg0XY"
      },
      "source": [
        "## Before you begin\n",
        "\n",
        "This notebook does not require a GPU runtime."
      ]
    },
    {
      "cell_type": "markdown",
      "metadata": {
        "id": "BF1j6f9HApxa"
      },
      "source": [
        "### Set up your Google Cloud project\n",
        "\n",
        "**The following steps are required, regardless of your notebook environment.**\n",
        "\n",
        "1. [Select or create a Google Cloud project](https://console.cloud.google.com/cloud-resource-manager). When you first create an account, you get a $300 free credit towards your compute/storage costs.\n",
        "\n",
        "1. [Make sure that billing is enabled for your project](https://cloud.google.com/billing/docs/how-to/modify-project).\n",
        "\n",
        "1. [Enable the Vertex AI API and Compute Engine API](https://console.cloud.google.com/flows/enableapi?apiid=aiplatform.googleapis.com,compute_component). \n",
        "Also [enable the Cloud Build API](https://console.cloud.google.com/flows/enableapi?apiid=cloudbuild.googleapis.com).\n",
        "\n",
        "1. If you are running this notebook locally, you will need to install the [Cloud SDK](https://cloud.google.com/sdk).\n",
        "\n",
        "1. Enter your project ID in the cell below. Then run the cell to make sure the\n",
        "Cloud SDK uses the right project for all the commands in this notebook.\n",
        "\n",
        "**Note**: Jupyter runs lines prefixed with `!` as shell commands, and it interpolates Python variables prefixed with `$` into these commands."
      ]
    },
    {
      "cell_type": "markdown",
      "metadata": {
        "id": "WReHDGG5g0XY"
      },
      "source": [
        "#### Set your project ID\n",
        "\n",
        "**If you don't know your project ID**, you may be able to get your project ID using `gcloud`."
      ]
    },
    {
      "cell_type": "code",
      "metadata": {
        "id": "oM1iC_MfAts1"
      },
      "source": [
        "import os\n",
        "PROJECT_ID = \"\"\n",
        "\n",
        "# Get your Google Cloud project ID from gcloud\n",
        "if not os.getenv(\"IS_TESTING\"):\n",
        "    shell_output=!gcloud config list --format 'value(core.project)' 2>/dev/null\n",
        "    PROJECT_ID = shell_output[0]\n",
        "    print(\"Project ID: \", PROJECT_ID)"
      ],
      "execution_count": null,
      "outputs": []
    },
    {
      "cell_type": "markdown",
      "metadata": {
        "id": "qJYoRfYng0XZ"
      },
      "source": [
        "Otherwise, set your project ID here."
      ]
    },
    {
      "cell_type": "code",
      "metadata": {
        "id": "riG_qUokg0XZ"
      },
      "source": [
        "if PROJECT_ID == \"\" or PROJECT_ID is None:\n",
        "    PROJECT_ID = \"python-docs-samples-tests\"  # @param {type:\"string\"}"
      ],
      "execution_count": null,
      "outputs": []
    },
    {
      "cell_type": "markdown",
      "metadata": {
        "id": "dr--iN2kAylZ"
      },
      "source": [
        "### Authenticate your Google Cloud account\n",
        "\n",
        "**If you are using AI Platform Notebooks**, your environment is already\n",
        "authenticated. Skip this step."
      ]
    },
    {
      "cell_type": "markdown",
      "metadata": {
        "id": "sBCra4QMA2wR"
      },
      "source": [
        "**If you are using Colab**, run the cell below and follow the instructions\n",
        "when prompted to authenticate your account via oAuth.\n",
        "\n",
        "**Otherwise**, follow these steps:\n",
        "\n",
        "1. In the Cloud Console, go to the [**Create service account key**\n",
        "   page](https://console.cloud.google.com/apis/credentials/serviceaccountkey).\n",
        "\n",
        "2. Click **Create service account**.\n",
        "\n",
        "3. In the **Service account name** field, enter a name, and\n",
        "   click **Create**.\n",
        "\n",
        "4. In the **Grant this service account access to project** section, click the **Role** drop-down list. Type \"AI Platform\"\n",
        "into the filter box, and select\n",
        "   **AI Platform Administrator**. Type \"Storage Object Admin\" into the filter box, and select **Storage Object Admin**.\n",
        "\n",
        "5. Click *Create*. A JSON file that contains your key downloads to your\n",
        "local environment.\n",
        "\n",
        "6. Enter the path to your service account key as the\n",
        "`GOOGLE_APPLICATION_CREDENTIALS` variable in the cell below and run the cell."
      ]
    },
    {
      "cell_type": "code",
      "metadata": {
        "id": "PyQmSRbKA8r-"
      },
      "source": [
        "import os\n",
        "import sys\n",
        "\n",
        "# If you are running this notebook in Colab, run this cell and follow the\n",
        "# instructions to authenticate your GCP account. This provides access to your\n",
        "# Cloud Storage bucket and lets you submit training jobs and prediction\n",
        "# requests.\n",
        "\n",
        "# If on AI Platform, then don't execute this code\n",
        "if not os.path.exists(\"/opt/deeplearning/metadata/env_version\"):\n",
        "    if \"google.colab\" in sys.modules:\n",
        "        from google.colab import auth as google_auth\n",
        "\n",
        "        google_auth.authenticate_user()\n",
        "\n",
        "    # If you are running this notebook locally, replace the string below with the\n",
        "    # path to your service account key and run this cell to authenticate your GCP\n",
        "    # account.\n",
        "    elif not os.getenv(\"IS_TESTING\"):\n",
        "        %env GOOGLE_APPLICATION_CREDENTIALS ''"
      ],
      "execution_count": null,
      "outputs": []
    },
    {
      "cell_type": "markdown",
      "metadata": {
        "id": "NxhCPW6e46EF"
      },
      "source": [
        "### Create a Cloud Storage bucket as necessary\n",
        "\n",
        "You will need a Cloud Storage bucket for this example.  If you don't have one that you want to use, you can make one now.\n",
        "\n",
        "\n",
        "Set the name of your Cloud Storage bucket below. It must be unique across all\n",
        "Cloud Storage buckets.\n",
        "\n",
        "You may also change the `REGION` variable, which is used for operations\n",
        "throughout the rest of this notebook. Make sure to [choose a region where AI Platform (Unified) services are\n",
        "available](https://cloud.google.com/ai-platform-unified/docs/general/locations#available_regions). You may\n",
        "not use a Multi-Regional Storage bucket for training with AI Platform.\n",
        "\n",
        "**Change the bucket name below** before running the next cell."
      ]
    },
    {
      "cell_type": "code",
      "metadata": {
        "id": "kZPew6MljTcP"
      },
      "source": [
        "BUCKET_NAME = \"gs://[your-bucket-name]\"  # @param {type:\"string\"}\n",
        "REGION = \"us-central1\"  # @param {type:\"string\"}"
      ],
      "execution_count": null,
      "outputs": []
    },
    {
      "cell_type": "code",
      "metadata": {
        "id": "cf221059d072"
      },
      "source": [
        "if BUCKET_NAME == \"\" or BUCKET_NAME is None or BUCKET_NAME == \"gs://[your-bucket-name]\":\n",
        "    from datetime import datetime\n",
        "    TIMESTAMP = datetime.now().strftime(\"%Y%m%d%H%M%S\")  \n",
        "    BUCKET_NAME = \"gs://\" + PROJECT_ID + \"aip-\" + TIMESTAMP"
      ],
      "execution_count": null,
      "outputs": []
    },
    {
      "cell_type": "markdown",
      "metadata": {
        "id": "-EcIXiGsCePi"
      },
      "source": [
        "**Only if your bucket doesn't already exist**: Run the following cell to create your Cloud Storage bucket."
      ]
    },
    {
      "cell_type": "code",
      "metadata": {
        "id": "NIq7R4HZCfIc"
      },
      "source": [
        "! gsutil mb -l $REGION $BUCKET_NAME"
      ],
      "execution_count": null,
      "outputs": []
    },
    {
      "cell_type": "markdown",
      "metadata": {
        "id": "ucvCsknMCims"
      },
      "source": [
        "Finally, validate access to your Cloud Storage bucket by examining its contents:"
      ]
    },
    {
      "cell_type": "code",
      "metadata": {
        "id": "vhOb7YnwClBb"
      },
      "source": [
        "! gsutil ls -al $BUCKET_NAME"
      ],
      "execution_count": null,
      "outputs": []
    },
    {
      "cell_type": "markdown",
      "metadata": {
        "id": "e3EQyqZiEMmf"
      },
      "source": [
        "### Import libraries and define constants"
      ]
    },
    {
      "cell_type": "markdown",
      "metadata": {
        "id": "lNV3Jd8BEMmj"
      },
      "source": [
        "\n",
        "\n",
        "Define some constants. \n"
      ]
    },
    {
      "cell_type": "code",
      "metadata": {
        "id": "UwT_YZM6W5Pj"
      },
      "source": [
        "PATH=%env PATH\n",
        "%env PATH={PATH}:/home/jupyter/.local/bin\n",
        "\n",
        "USER = 'your-user-name' # <---CHANGE THIS\n",
        "PIPELINE_ROOT = '{}/pipeline_root/{}'.format(BUCKET_NAME, USER)\n",
        "\n",
        "PIPELINE_ROOT"
      ],
      "execution_count": null,
      "outputs": []
    },
    {
      "cell_type": "markdown",
      "metadata": {
        "id": "wbY_UZSvEMmk"
      },
      "source": [
        "Do some imports:"
      ]
    },
    {
      "cell_type": "code",
      "metadata": {
        "id": "lnz2aQ_EEMmk"
      },
      "source": [
        "import json\n",
        "from typing import NamedTuple\n",
        "\n",
        "\n",
        "from kfp import dsl\n",
        "from kfp.v2 import compiler\n",
        "from typing import NamedTuple\n",
        "from kfp.v2 import dsl\n",
        "from kfp.v2.dsl import (\n",
        "    component,\n",
        "    InputPath,\n",
        "    OutputPath,\n",
        "    Input,\n",
        "    Output,\n",
        "    Artifact,\n",
        "    Dataset,\n",
        "    Model,\n",
        "    ClassificationMetrics,\n",
        "    Metrics,\n",
        ")\n",
        "\n",
        "from kfp.v2.google.client import AIPlatformClient\n",
        "\n",
        "from google_cloud_pipeline_components import aiplatform as gcc_aip\n",
        "from google.cloud import aiplatform"
      ],
      "execution_count": null,
      "outputs": []
    },
    {
      "cell_type": "markdown",
      "metadata": {
        "id": "ZzmFXOmeXLiT"
      },
      "source": [
        "## Define the pipeline **components**\n",
        "\n",
        "This notebook shows two variants of an end-to-end PyTorch pipeline. They differ in the training *component* (that is, pipeline step). \n",
        "\n",
        "Some of the components used in these pipelines are drawn from the prebuilt set of components defined in [`google_cloud_pipeline_components`](https://github.com/kubeflow/pipelines/tree/master/components/google-cloud). These make it easy to access Vertex AI services.\n",
        "\n",
        "Others are 'custom' components defined directly in this notebook, as Python-function-based components. Lightweight Python function-based components make it easier to iterate quickly by letting you build your component code as a Python function and generating the component specification for you.\n",
        "\n",
        "You will notice a `@component` decorator arg named `output_component_file`.  When the components are evaluated, a component `yaml` spec file is generated. While we don't show it in this example, the component yaml files can be shared & placed under version control, and used later to define a pipeline step.\n",
        "\n",
        "All of the custom components are defined in this section, with the exception of the second version of the training step, which is defined in a section below.\n",
        "\n",
        "\n",
        "\n",
        "We'll start by setting the container images that we'll use for some of the components.  You can find the Dockerfiles for these images in the example repo: [Dockerfile](https://github.com/amygdala/code-snippets/blob/master/ml/vertex_pipelines/pytorch/cifar/Dockerfile) and [Dockerfile-gpu](https://github.com/amygdala/code-snippets/blob/master/ml/vertex_pipelines/pytorch/cifar/Dockerfile-gpu), respectively.\n"
      ]
    },
    {
      "cell_type": "code",
      "metadata": {
        "id": "e_L9GVO3v_rT"
      },
      "source": [
        "CONTAINER_URI = \"gcr.io/google-samples/pytorch-pl:v2\"\n",
        "GPU_CONTAINER_URI = \"gcr.io/google-samples/pytorch-pl-gpu:v5\""
      ],
      "execution_count": null,
      "outputs": []
    },
    {
      "cell_type": "markdown",
      "metadata": {
        "id": "9k2-Z9P6TePz"
      },
      "source": [
        "### Define the 'preprocess' component"
      ]
    },
    {
      "cell_type": "markdown",
      "metadata": {
        "id": "T8IxJuZ_YCHi"
      },
      "source": [
        "This component fetches the cifar10 dataset."
      ]
    },
    {
      "cell_type": "code",
      "metadata": {
        "id": "2AqjrSGjXS24"
      },
      "source": [
        "@component(\n",
        "    base_image=CONTAINER_URI,\n",
        "    output_component_file=\"cifar_preproc.yaml\",\n",
        ")\n",
        "def cifar_preproc(\n",
        "    cifar_dataset: Output[Dataset],\n",
        "):\n",
        "\n",
        "    import subprocess\n",
        "    import logging\n",
        "    from pathlib import Path\n",
        "\n",
        "    import torchvision\n",
        "    import webdataset as wds\n",
        "    from sklearn.model_selection import train_test_split\n",
        "\n",
        "    logging.getLogger().setLevel(logging.INFO)\n",
        "    logging.info(\"Dataset path is: %s\", cifar_dataset.path)\n",
        "    output_pth = cifar_dataset.path\n",
        "\n",
        "    Path(output_pth).mkdir(parents=True, exist_ok=True)\n",
        "\n",
        "    trainset = torchvision.datasets.CIFAR10(\n",
        "        root=\"./\", train=True, download=True\n",
        "    )\n",
        "    testset = torchvision.datasets.CIFAR10(\n",
        "        root=\"./\", train=False, download=True\n",
        "    )\n",
        "\n",
        "    Path(output_pth + \"/train\").mkdir(parents=True, exist_ok=True)\n",
        "    Path(output_pth + \"/val\").mkdir(parents=True, exist_ok=True)\n",
        "    Path(output_pth + \"/test\").mkdir(parents=True, exist_ok=True)\n",
        "\n",
        "    random_seed = 25\n",
        "    y = trainset.targets\n",
        "    trainset, valset, y_train, y_val = train_test_split(\n",
        "        trainset,\n",
        "        y,\n",
        "        stratify=y,\n",
        "        shuffle=True,\n",
        "        test_size=0.2,\n",
        "        random_state=random_seed,\n",
        "    )\n",
        "\n",
        "    for name in [(trainset, \"train\"), (valset, \"val\"), (testset, \"test\")]:\n",
        "        with wds.ShardWriter(\n",
        "            output_pth + \"/\" + str(name[1]) + \"/\" + str(name[1]) + \"-%d.tar\",\n",
        "            maxcount=1000,\n",
        "        ) as sink:\n",
        "            for index, (image, cls) in enumerate(name[0]):\n",
        "                sink.write(\n",
        "                    {\"__key__\": \"%06d\" % index, \"ppm\": image, \"cls\": cls}\n",
        "                )\n",
        "\n",
        "    entry_point = [\"ls\", \"-R\", output_pth]\n",
        "    run_code = subprocess.run(entry_point, stdout=subprocess.PIPE)\n",
        "    print(run_code.stdout)\n"
      ],
      "execution_count": null,
      "outputs": []
    },
    {
      "cell_type": "markdown",
      "metadata": {
        "id": "XEBbfj09iobC"
      },
      "source": [
        "### Define a component to create torchserve `Dockerfile` and `config.properties` files from the pipeline params\n",
        "\n",
        "This component creates configuration files that will be used to deploy the trained model.  It can be run concurrently with other work.\n",
        "\n",
        "The `config.properties` file will be used to create the model archive after training.\n",
        "\n",
        "For this example, the torchserve-based container is using a GPU base image, and we will serve the model using a GPU-enabled instance.\n"
      ]
    },
    {
      "cell_type": "code",
      "metadata": {
        "id": "wA2W7Lzyi62t"
      },
      "source": [
        "@component(\n",
        "    output_component_file=\"cifar_config.yaml\",\n",
        ")\n",
        "def cifar_config(\n",
        "    mar_model_name: str,\n",
        "    version: str,\n",
        "    port: int,\n",
        "    cifar_config: Output[Artifact],\n",
        "):\n",
        "    import os\n",
        "    from pathlib import Path\n",
        "\n",
        "    Path(cifar_config.path).mkdir(parents=True, exist_ok=True)\n",
        "\n",
        "    config_properties = f\"\"\"inference_address=http://0.0.0.0:{port}\n",
        "management_address=http://0.0.0.0:8081\n",
        "metrics_address=http://0.0.0.0:8082\n",
        "enable_metrics_api=true\n",
        "metrics_format=prometheus\n",
        "number_of_netty_threads=4\n",
        "job_queue_size=10\n",
        "service_envelope=kfserving\n",
        "model_store=/home/model-server/model-store\n",
        "model_snapshot={{\"name\":\"startup.cfg\",\"modelCount\":1,\"models\":{{\"{mar_model_name}\":{{\"{version}\":{{\"defaultVersion\":true,\"marName\":\"{mar_model_name}.mar\",\"minWorkers\":1,\"maxWorkers\":5,\"batchSize\":1,\"maxBatchDelay\":5000,\"responseTimeout\":120}}}}}}}}\n",
        "\"\"\"\n",
        "\n",
        "    # write to artifact dir\n",
        "    properties_path = os.path.join(cifar_config.path, \"config.properties\")\n",
        "    with open(properties_path, \"w\") as f:\n",
        "        f.write(config_properties)\n",
        "\n",
        "    torchserve_dockerfile_str = f\"\"\"FROM pytorch/torchserve:0.4.0-gpu\n",
        "\n",
        "RUN pip install --upgrade pip\n",
        "RUN pip install grpcio==1.32.0\n",
        "RUN pip install pytorch-lightning\n",
        "\n",
        "COPY config.properties /home/model-server/config.properties\n",
        "COPY {mar_model_name}.mar /home/model-server/model-store/\n",
        "\"\"\"\n",
        "    # write to artifact dir\n",
        "    dockerfile_path = os.path.join(cifar_config.path, \"Dockerfile\")\n",
        "    with open(dockerfile_path, \"w\") as f:\n",
        "        f.write(torchserve_dockerfile_str)\n"
      ],
      "execution_count": null,
      "outputs": []
    },
    {
      "cell_type": "markdown",
      "metadata": {
        "id": "wLG03qV3ihUe"
      },
      "source": [
        "### Define Version 1 of the `train` component: train on the pipeline step node"
      ]
    },
    {
      "cell_type": "markdown",
      "metadata": {
        "id": "Pq_ZZnis1yAz"
      },
      "source": [
        "The train component will take as input the `Dataset` Artifact generated in the preproc component above, using that as the data source; and write its training data to the `Model` artifact's GCSFuse path.  That means that the trained model info is in GCS.  \n",
        "\n",
        "This component is configured to train on 1 GPU. If you want to train on CPU, remove the `gpus` arg from the `trainer_args` definition. You'll also need to edit the pipeline definition below to remove the requirement that the training step run on a GPU-enabled instance.  \n",
        "\n",
        "> Note: For this variant of the training step, you can not use > 1 GPU. (This constraint is tied to how the pipeline steps are launched, and will probably change in future).\n",
        "See the second variant of the training step below, which uses Vertex AI custom training, for a scenario that allows multiple GPUs."
      ]
    },
    {
      "cell_type": "code",
      "metadata": {
        "id": "I6zST7PbHgCV"
      },
      "source": [
        "@component(\n",
        "    base_image=GPU_CONTAINER_URI,\n",
        "    output_component_file=\"cifar_train.yaml\",\n",
        ")\n",
        "def cifar_train(\n",
        "    model_name: str,\n",
        "    max_epochs: int,\n",
        "    model_display_name: str,\n",
        "    tensorboard_instance:str,\n",
        "    cifar_dataset: Input[Dataset],\n",
        "    cifar_model: Output[Model],\n",
        "):\n",
        "\n",
        "    import pytorch_lightning as pl\n",
        "    import logging\n",
        "    import os\n",
        "    from subprocess import Popen, DEVNULL\n",
        "    import sys\n",
        "\n",
        "    from pytorch_pipeline.components.trainer.component import Trainer\n",
        "    from argparse import ArgumentParser\n",
        "    from pytorch_lightning.loggers import TensorBoardLogger\n",
        "    from pytorch_lightning.callbacks import (\n",
        "        EarlyStopping,\n",
        "        LearningRateMonitor,\n",
        "        ModelCheckpoint,\n",
        "    )\n",
        "\n",
        "    logging.getLogger().setLevel(logging.INFO)\n",
        "    logging.info(\"datset root path: %s\", cifar_dataset.path)\n",
        "    logging.info(\"model root path: %s\", cifar_model.path)\n",
        "    model_output_root = cifar_model.path\n",
        "\n",
        "    # Argument parser for user defined paths\n",
        "    parser = ArgumentParser()\n",
        "\n",
        "    parser.add_argument(\n",
        "        \"--tensorboard_root\",\n",
        "        type=str,\n",
        "        default=f\"{model_output_root}/tensorboard\",\n",
        "        help=\"Tensorboard Root path (default: output/tensorboard)\",\n",
        "    )\n",
        "\n",
        "    parser.add_argument(\n",
        "        \"--checkpoint_dir\",\n",
        "        type=str,\n",
        "        default=f\"{model_output_root}/train/models\",\n",
        "        help=\"Path to save model checkpoints \",\n",
        "    )\n",
        "\n",
        "    parser.add_argument(\n",
        "        \"--dataset_path\",\n",
        "        type=str,\n",
        "        default=cifar_dataset.path,\n",
        "        help=\"Cifar10 Dataset path (default: output/processing)\",\n",
        "    )\n",
        "\n",
        "    parser.add_argument(\n",
        "        \"--model_name\",\n",
        "        type=str,\n",
        "        default=\"resnet.pth\",\n",
        "        help=\"Name of the model to be saved as (default: resnet.pth)\",\n",
        "    )\n",
        "\n",
        "    sys.argv = sys.argv[:1]\n",
        "\n",
        "    parser = pl.Trainer.add_argparse_args(parent_parser=parser)\n",
        "    args = vars(parser.parse_args())\n",
        "\n",
        "    # Enabling Tensorboard Logger, ModelCheckpoint, Earlystopping\n",
        "    lr_logger = LearningRateMonitor()\n",
        "    tboard = TensorBoardLogger(f\"{model_output_root}/tensorboard\")\n",
        "\n",
        "    early_stopping = EarlyStopping(\n",
        "        monitor=\"val_loss\", mode=\"min\", patience=5, verbose=True\n",
        "    )\n",
        "    checkpoint_callback = ModelCheckpoint(\n",
        "        dirpath=f\"{model_output_root}/train/models\",\n",
        "        filename=\"cifar10_{epoch:02d}\",\n",
        "        save_top_k=1,\n",
        "        verbose=True,\n",
        "        monitor=\"val_loss\",\n",
        "        mode=\"min\",\n",
        "    )\n",
        "\n",
        "    # Setting the trainer-specific arguments\n",
        "    trainer_args = {\n",
        "        \"logger\": tboard,\n",
        "        \"profiler\": \"pytorch\",\n",
        "        \"checkpoint_callback\": True,\n",
        "        \"max_epochs\": max_epochs,\n",
        "        \"callbacks\": [lr_logger, early_stopping, checkpoint_callback],\n",
        "        \"gpus\": 1,\n",
        "    }\n",
        "\n",
        "    # Setting the datamodule specific arguments\n",
        "    data_module_args = {\"train_glob\": cifar_dataset.path}\n",
        "\n",
        "    if tensorboard_instance:\n",
        "      try:\n",
        "        logging.warning('setting up Vertex tensorboard experiment')\n",
        "        tb_gs = f\"{model_output_root}/tensorboard\".replace(\"/gcs/\", \"gs://\")\n",
        "        logging.info('tb gs path: %s', tb_gs)\n",
        "        tb_args = [\"/opt/conda/bin/tb-gcp-uploader\", \"--tensorboard_resource_name\", tensorboard_instance, \n",
        "                        \"--logdir\", tb_gs, \"--experiment_name\", model_display_name,\n",
        "                        # '--one_shot=True'\n",
        "                        ]\n",
        "        logging.warning('tb args: %s', tb_args)\n",
        "        Popen(tb_args, stdout=DEVNULL, stderr=DEVNULL)\n",
        "      except Exception as e:\n",
        "        logging.warning(e)\n",
        "\n",
        "    # Initiating the training process\n",
        "    logging.info(\"about to call the Trainer...\")\n",
        "\n",
        "    trainer = Trainer(\n",
        "        module_file=\"cifar10_train.py\",\n",
        "        data_module_file=\"cifar10_datamodule.py\",\n",
        "        module_file_args=parser,\n",
        "        data_module_args=data_module_args,\n",
        "        trainer_args=trainer_args,\n",
        "    )\n",
        "\n",
        " \n"
      ],
      "execution_count": null,
      "outputs": []
    },
    {
      "cell_type": "markdown",
      "metadata": {
        "id": "lvhwyAIo858M"
      },
      "source": [
        "### Define the 'mar' component\n",
        "\n",
        "This component generates the [model archive file](https://github.com/pytorch/serve/blob/master/model-archiver/README.md) from the training results."
      ]
    },
    {
      "cell_type": "code",
      "metadata": {
        "id": "87szStMs9EIV"
      },
      "source": [
        "@component(\n",
        "    base_image=CONTAINER_URI,\n",
        "    output_component_file=\"mar.yaml\",\n",
        ")\n",
        "def generate_mar_file(\n",
        "    model_name: str,\n",
        "    mar_model_name: str,\n",
        "    handler: str,\n",
        "    version: str,\n",
        "    cifar_model: Input[Model],\n",
        "    cifar_mar: Output[Model],\n",
        "):\n",
        "\n",
        "    import logging\n",
        "    import pytorch_lightning as pl\n",
        "    import os\n",
        "    import subprocess\n",
        "\n",
        "    from pathlib import Path\n",
        "\n",
        "    def _validate_mar_config(mar_config):\n",
        "        mandatory_args = [\n",
        "            \"MODEL_NAME\",\n",
        "            \"SERIALIZED_FILE\",\n",
        "            \"MODEL_FILE\",\n",
        "            \"HANDLER\",\n",
        "            \"VERSION\",\n",
        "        ]\n",
        "        missing_list = []\n",
        "        for key in mandatory_args:\n",
        "            if key not in mar_config:\n",
        "                missing_list.append(key)\n",
        "\n",
        "        if missing_list:\n",
        "            logging.warning(\n",
        "                \"The following Mandatory keys are missing in the config file {} \".format(\n",
        "                    missing_list\n",
        "                )\n",
        "            )\n",
        "            raise Exception(\n",
        "                \"Following Mandatory keys are missing in the config file {} \".format(\n",
        "                    missing_list\n",
        "                )\n",
        "            )\n",
        "\n",
        "    logging.getLogger().setLevel(logging.INFO)\n",
        "\n",
        "    model_output_root = cifar_model.path\n",
        "    mar_output_root = cifar_mar.path\n",
        "    export_path = f\"{mar_output_root}/model-store\"\n",
        "    try:\n",
        "        Path(export_path).mkdir(parents=True, exist_ok=True)\n",
        "    except Exception as e:\n",
        "        logging.warning(e)\n",
        "        # retry after pause\n",
        "        import time\n",
        "\n",
        "        time.sleep(2)\n",
        "        Path(export_path).mkdir(parents=True, exist_ok=True)\n",
        "\n",
        "    mar_config = {\n",
        "        \"MODEL_NAME\": mar_model_name,\n",
        "        \"MODEL_FILE\": \"pytorch_pipeline/examples/cifar10/cifar10_train.py\",\n",
        "        \"HANDLER\": handler,\n",
        "        \"SERIALIZED_FILE\": os.path.join(\n",
        "            f\"{model_output_root}/train/models\",\n",
        "            model_name,\n",
        "        ),\n",
        "        \"VERSION\": version,\n",
        "        \"EXPORT_PATH\": f\"{cifar_mar.path}/model-store\",\n",
        "    }\n",
        "    logging.warning(\"mar_config: %s\", mar_config)\n",
        "    print(f\"mar_config: {mar_config}\")\n",
        "    try:\n",
        "        logging.info(\"validating config\")\n",
        "        _validate_mar_config(mar_config)\n",
        "    except Exception as e:\n",
        "        logging.warning(e)\n",
        "\n",
        "    archiver_cmd = \"torch-model-archiver --force --model-name {MODEL_NAME} --serialized-file {SERIALIZED_FILE} --model-file {MODEL_FILE} --handler {HANDLER} -v {VERSION}\".format(\n",
        "        MODEL_NAME=mar_config[\"MODEL_NAME\"],\n",
        "        SERIALIZED_FILE=mar_config[\"SERIALIZED_FILE\"],\n",
        "        MODEL_FILE=mar_config[\"MODEL_FILE\"],\n",
        "        HANDLER=mar_config[\"HANDLER\"],\n",
        "        VERSION=mar_config[\"VERSION\"],\n",
        "    )\n",
        "    if \"EXPORT_PATH\" in mar_config:\n",
        "        archiver_cmd += \" --export-path {EXPORT_PATH}\".format(\n",
        "            EXPORT_PATH=mar_config[\"EXPORT_PATH\"]\n",
        "        )\n",
        "\n",
        "    if \"EXTRA_FILES\" in mar_config:\n",
        "        archiver_cmd += \" --extra_files {EXTRA_FILES}\".format(\n",
        "            EXTRA_FILES=mar_config[\"EXTRA_FILES\"]\n",
        "        )\n",
        "\n",
        "    if \"REQUIREMENTS_FILE\" in mar_config:\n",
        "        archiver_cmd += \" -r {REQUIREMENTS_FILE}\".format(\n",
        "            REQUIREMENTS_FILE=mar_config[\"REQUIREMENTS_FILE\"]\n",
        "        )\n",
        "\n",
        "    print(\"Running Archiver cmd: \", archiver_cmd)\n",
        "    logging.warning(\"archiver command: %s\", archiver_cmd)\n",
        "\n",
        "    try:\n",
        "        return_code = subprocess.Popen(archiver_cmd, shell=True).wait()\n",
        "        if return_code != 0:\n",
        "            error_msg = (\n",
        "                \"Error running command {archiver_cmd} {return_code}\".format(\n",
        "                    archiver_cmd=archiver_cmd, return_code=return_code\n",
        "                )\n",
        "            )\n",
        "            print(error_msg)\n",
        "    except Exception as e:\n",
        "        logging.warning(e)\n"
      ],
      "execution_count": null,
      "outputs": []
    },
    {
      "cell_type": "markdown",
      "metadata": {
        "id": "d7gWcJgdvJiL"
      },
      "source": [
        "### Define the component to build a torchserve docker image\n",
        "\n",
        "This component uses the results of the 'config' component as well as the model archive file.  It builds a torchserve image using [Cloud Build](https://cloud.google.com/build/docs).\n"
      ]
    },
    {
      "cell_type": "code",
      "metadata": {
        "id": "Hv8_CxG6vRPc"
      },
      "source": [
        "@component(\n",
        "    base_image=\"gcr.io/deeplearning-platform-release/tf2-gpu.2-3:latest\",\n",
        "    output_component_file=\"build_image.yaml\",\n",
        ")\n",
        "def build_torchserve_image(\n",
        "    model_name: str,\n",
        "    cifar_mar: Input[Model],\n",
        "    cifar_config: Input[Artifact],\n",
        "    project: str,\n",
        ") -> NamedTuple(\"Outputs\", [(\"serving_container_uri\", str),],):\n",
        "\n",
        "    from datetime import datetime\n",
        "    import logging\n",
        "    import os\n",
        "\n",
        "    import google.auth\n",
        "    from google.cloud.devtools import cloudbuild_v1\n",
        "\n",
        "    logging.getLogger().setLevel(logging.INFO)\n",
        "    credentials, project_id = google.auth.default()\n",
        "    client = cloudbuild_v1.services.cloud_build.CloudBuildClient()\n",
        "\n",
        "    mar_model_name = f\"{model_name}.mar\"\n",
        "    build_version = datetime.now().strftime(\"%Y%m%d%H%M%S\")\n",
        "\n",
        "    dockerfile_path = os.path.join(cifar_config.path, \"Dockerfile\")\n",
        "    gs_dockerfile_path = dockerfile_path.replace(\"/gcs/\", \"gs://\")\n",
        "    config_prop_path = os.path.join(cifar_config.path, \"config.properties\")\n",
        "    gs_config_prop_path = config_prop_path.replace(\"/gcs/\", \"gs://\")\n",
        "\n",
        "    export_path = f\"{cifar_mar.path}/model-store\"\n",
        "    model_path = os.path.join(export_path, mar_model_name)\n",
        "    gs_model_path = model_path.replace(\"/gcs/\", \"gs://\")\n",
        "    logging.warning(\"gs_model_path: %s\", gs_model_path)\n",
        "\n",
        "    image_uri = f\"gcr.io/{project}/torchservetest:{build_version}\"\n",
        "    logging.info(\"image uri: %s\", image_uri)\n",
        "\n",
        "    build = cloudbuild_v1.Build(images=[image_uri])\n",
        "    build.steps = [\n",
        "        {\n",
        "            \"name\": \"gcr.io/cloud-builders/gsutil\",\n",
        "            \"args\": [\n",
        "                \"cp\",\n",
        "                gs_config_prop_path,\n",
        "                \"config.properties\",\n",
        "            ],\n",
        "        },\n",
        "        {\n",
        "            \"name\": \"gcr.io/cloud-builders/gsutil\",\n",
        "            \"args\": [\"cp\", f\"{gs_model_path}\", f\"{mar_model_name}\"],\n",
        "        },\n",
        "        {\n",
        "            \"name\": \"gcr.io/cloud-builders/gsutil\",\n",
        "            \"args\": [\n",
        "                \"cp\",\n",
        "                gs_dockerfile_path,\n",
        "                \"Dockerfile\",\n",
        "            ],\n",
        "        },\n",
        "        {\n",
        "            \"name\": \"gcr.io/cloud-builders/docker\",\n",
        "            \"args\": [\"build\", \"-t\", image_uri, \".\"],\n",
        "        },\n",
        "    ]\n",
        "    operation = client.create_build(project_id=project, build=build)\n",
        "    print(\"IN PROGRESS:\")\n",
        "    print(operation.metadata)\n",
        "\n",
        "    result = operation.result()\n",
        "    # Print the completed status\n",
        "    print(\"RESULT:\", result.status)\n",
        "    return (image_uri,)\n"
      ],
      "execution_count": null,
      "outputs": []
    },
    {
      "cell_type": "markdown",
      "metadata": {
        "id": "vDXGtGHrZH_-"
      },
      "source": [
        "## Optional: Create a Vertex Tensorboard instance\n",
        "\n",
        "If you like, you can configure the pipeline to upload the training logs to the Vertex TensorBoard service.  To do this, you will need to pre-create a Vertex TensorBoard instance.  Follow the [instructions here](https://cloud.google.com/vertex-ai/docs/experiments/tensorboard-overview#create_a_instance).\n",
        "\n",
        "As described in the docs, you will need the Vertex TensorBoard instance name (it will look something like: `projects/123/locations/us-central1/tensorboards/456`) that will be printed at the end of the create command output. Make note of that instance name, and you will use it to set a parameter when submitting the pipeline run."
      ]
    },
    {
      "cell_type": "markdown",
      "metadata": {
        "id": "LfmLlMQDQzwX"
      },
      "source": [
        "## Define and run the Pipeline Version 1\n",
        "\n",
        "Define a pipeline that uses these components. \n",
        "Before you evaluate the pipeline, **edit the GPU type** for both the `cifar_train_task` and the `model_deploy_op` depending upon what GPU quota you have available.  **You may need to request more GPU quota first**.\n",
        "\n",
        "The pipeline will look like this:\n",
        "\n",
        "<a href=\"https://storage.googleapis.com/amy-jo/images/mp/pytorch_train1.png\" target=\"_blank\"><img src=\"https://storage.googleapis.com/amy-jo/images/mp/pytorch_train1.png\" width=\"95%\"/></a>\n"
      ]
    },
    {
      "cell_type": "markdown",
      "metadata": {
        "id": "fR1wPmfjkBBR"
      },
      "source": [
        "Define some constants:"
      ]
    },
    {
      "cell_type": "code",
      "metadata": {
        "id": "vdE2zqHBD_nU"
      },
      "source": [
        "from datetime import datetime\n",
        "ts = datetime.now().strftime(\"%Y%m%d%H%M%S\")\n",
        "MODEL_NAME = f'resnet{ts}'\n",
        "PORT = 8080\n",
        "MAR_MODEL_NAME = 'cifar10'"
      ],
      "execution_count": null,
      "outputs": []
    },
    {
      "cell_type": "code",
      "metadata": {
        "id": "1SIWkbKn5dNG"
      },
      "source": [
        "print(MODEL_NAME)"
      ],
      "execution_count": null,
      "outputs": []
    },
    {
      "cell_type": "code",
      "metadata": {
        "id": "QDVgJnHfsxkJ"
      },
      "source": [
        "\n",
        "@dsl.pipeline(\n",
        "    name=\"pytorch-cifar-pipeline\",\n",
        "    pipeline_root=PIPELINE_ROOT,\n",
        ")\n",
        "def pytorch_cifar_pipeline(\n",
        "    project: str = PROJECT_ID,\n",
        "    model_name: str = \"resnet.pth\",\n",
        "    model_display_name: str = MODEL_NAME,\n",
        "    max_epochs: int = 1,\n",
        "    mar_model_name: str = MAR_MODEL_NAME,\n",
        "    handler: str = \"image_classifier\",\n",
        "    version: str = \"1.0\",\n",
        "    port: int = PORT,\n",
        "    tensorboard_instance: str = ''\n",
        "):\n",
        "    cifar_config_task = cifar_config(mar_model_name, version, port)\n",
        "    cifar_preproc_task = cifar_preproc()\n",
        "\n",
        "    cifar_train_task = cifar_train(\n",
        "        model_name=model_name,\n",
        "        max_epochs=max_epochs,\n",
        "        model_display_name=model_display_name,\n",
        "        tensorboard_instance=tensorboard_instance,\n",
        "        cifar_dataset=cifar_preproc_task.outputs[\"cifar_dataset\"],\n",
        "    ).set_gpu_limit(1).set_memory_limit('32G')\n",
        "    cifar_train_task.add_node_selector_constraint(\n",
        "        # You can change this to use a different accelerator. Ensure you have quota for it.\n",
        "        \"cloud.google.com/gke-accelerator\", \"nvidia-tesla-v100\"\n",
        "    )\n",
        "\n",
        "    cifar_mar_task = generate_mar_file(\n",
        "        model_name,\n",
        "        mar_model_name,\n",
        "        handler,\n",
        "        version,\n",
        "        cifar_train_task.outputs[\"cifar_model\"],\n",
        "    )\n",
        "\n",
        "    build_image_task = build_torchserve_image(\n",
        "        mar_model_name, cifar_mar_task.outputs[\"cifar_mar\"], \n",
        "        cifar_config_task.outputs['cifar_config'],\n",
        "        project\n",
        "    )\n",
        "\n",
        "    model_upload_op = gcc_aip.ModelUploadOp(\n",
        "        project=project,\n",
        "        display_name=model_display_name,\n",
        "        serving_container_image_uri=build_image_task.outputs['serving_container_uri'],\n",
        "        serving_container_predict_route=\"/predictions/{}\".format(MAR_MODEL_NAME),\n",
        "        serving_container_health_route=\"/ping\",\n",
        "        serving_container_ports=[PORT]        \n",
        "    )\n",
        "    \n",
        "    endpoint_create_op = gcc_aip.EndpointCreateOp(\n",
        "        project=project,\n",
        "        display_name=model_display_name,\n",
        "    )\n",
        "\n",
        "    model_deploy_op = gcc_aip.ModelDeployOp(\n",
        "        project=project,\n",
        "        endpoint=endpoint_create_op.outputs[\"endpoint\"],\n",
        "        model=model_upload_op.outputs[\"model\"],\n",
        "        deployed_model_display_name=model_display_name,\n",
        "        machine_type=\"n1-standard-4\",\n",
        "        accelerator_type='NVIDIA_TESLA_P100',  # CHANGE THIS as necessary\n",
        "        accelerator_count=1        \n",
        "    )\n",
        "\n"
      ],
      "execution_count": null,
      "outputs": []
    },
    {
      "cell_type": "markdown",
      "metadata": {
        "id": "f0t6TZeCY0y4"
      },
      "source": [
        "Compile the pipeline:"
      ]
    },
    {
      "cell_type": "code",
      "metadata": {
        "id": "xREwNd4b2Oif"
      },
      "source": [
        "from kfp.v2 import compiler as v2compiler\n",
        "v2compiler.Compiler().compile(pipeline_func=pytorch_cifar_pipeline,\n",
        "                              package_path='pytorch_pipeline_spec.json')"
      ],
      "execution_count": null,
      "outputs": []
    },
    {
      "cell_type": "markdown",
      "metadata": {
        "id": "pYaCpzMZY3uR"
      },
      "source": [
        "Create a Pipelines client object:"
      ]
    },
    {
      "cell_type": "code",
      "metadata": {
        "id": "r9jd9MW_2gyx"
      },
      "source": [
        "from kfp.v2.google.client import AIPlatformClient  # noqa: F811\n",
        "\n",
        "api_client = AIPlatformClient(\n",
        "    project_id=PROJECT_ID, \n",
        "    region=REGION, \n",
        "    )"
      ],
      "execution_count": null,
      "outputs": []
    },
    {
      "cell_type": "markdown",
      "metadata": {
        "id": "uXlT2h41bARJ"
      },
      "source": [
        "**Edit the following cell** if you would like to upload training logs to a Vertex Tensorboard instance."
      ]
    },
    {
      "cell_type": "code",
      "metadata": {
        "id": "_7rSLanaafqh"
      },
      "source": [
        "TENSORBOARD_INSTANCE = 'projects/123/locations/us-central1/tensorboards/456' # CHANGE THIS TO YOUR INSTANCE NAME"
      ],
      "execution_count": null,
      "outputs": []
    },
    {
      "cell_type": "markdown",
      "metadata": {
        "id": "HyaQ0WT_Y-x3"
      },
      "source": [
        "Run the pipeline.  If you set up a tensorboard instance, **edit the cell above to your instance name, then uncomment the `tensorboard_instance` line below before evaluating the cell.**"
      ]
    },
    {
      "cell_type": "code",
      "metadata": {
        "id": "TMRR4HfjS5w6"
      },
      "source": [
        "result = api_client.create_run_from_job_spec(\n",
        "    job_spec_path=\"pytorch_pipeline_spec.json\",\n",
        "    pipeline_root=PIPELINE_ROOT,\n",
        "    # enable_caching=False,\n",
        "    parameter_values={\n",
        "        \"model_name\": \"resnet.pth\", \"max_epochs\": 5,\n",
        "        \"project\": PROJECT_ID, \"model_display_name\": MODEL_NAME,\n",
        "        # \"tensorboard_instance\": TENSORBOARD_INSTANCE\n",
        "    },\n",
        ")"
      ],
      "execution_count": null,
      "outputs": []
    },
    {
      "cell_type": "markdown",
      "metadata": {
        "id": "4akH8h-PbeJI"
      },
      "source": [
        "You can view the running pipeline in the Cloud Console by clicking the generated link above."
      ]
    },
    {
      "cell_type": "markdown",
      "metadata": {
        "id": "hwN0QES17E-U"
      },
      "source": [
        "### Viewing model training information using TensorBoard\n",
        "\n",
        "If you set up a Vertex TensorBoard instance and configured the pipeline to use it, then once the pipeline training step is underway, you can view the TensorBoard server by navigating to 'Vertex AI > Experiments' in the Cloud Console.  Click on '`OPEN TENSORBOARD`' next to the newly created \"experiment\", which will use the `MODEL_NAME` generated above."
      ]
    },
    {
      "cell_type": "markdown",
      "metadata": {
        "id": "Tngnz4Nwbaul"
      },
      "source": [
        "### Using the PyTorch profiler with TensorBoard\n",
        "\n",
        "The training code is writing profiler information, and this can be viewed in TensorBoard by installing a plugin.  The Vertex TensorBoard service does not support adding arbitrary plugins, but you can view this information as follows (you will need the `gcloud` SDK installed):\n",
        "\n",
        "- on your local machine, ideally within a virtual environment, run: `pip install -U torch_tb_profiler` and `pip install -U tensorboard`.\n",
        "- Find the link to the TensorBoard logs produced during training.  You can do this by navigating to the pipeline in the Cloud Console and clicking on the Model Artifact produced as output by the training step.  In the right panel you will see a `URI` link that starts with `gs://` and ends with `cifar_model`.  Append `tensorboard` to that URI, which should result in a URI like this:  \n",
        "`gs://<your-bucket>/.../cifar_model/tensorboard`.\n",
        "- Copy the tensorboard logs to your local machine, e.g. (replacing with your URI):  \n",
        "`gsutil cp gs://<your-bucket>/.../cifar_model/tensorboard /tmp`\n",
        "- Run the TensorBoard server: `tensorboard --logdir=/tmp/tensorboard`\n",
        "- visit the TensorBoard server at the given localhost port"
      ]
    },
    {
      "cell_type": "markdown",
      "metadata": {
        "id": "a6LhNxAx1GIA"
      },
      "source": [
        "## Using your deployed model to get predictions\n",
        "\n",
        "First, [download this](https://github.com/amygdala/code-snippets/blob/master/ml/vertex_pipelines/pytorch/cifar/input.json) `input.json` file.\n",
        "\n",
        "Then, find the 'endpoint' artifact output by the 'endpoint-create' step in the pipeline and click on it.  Look for the endpoint URI in the right-hand panel. Copy the last part of that URI (a long number).  That is the endpoint ID. (You can also find this information in the  'Vertex AI > Endpoints' panel in the Cloud Console.)\n",
        "\n",
        "**Change the cell below to use your endpoint ID before you run it.**"
      ]
    },
    {
      "cell_type": "code",
      "metadata": {
        "id": "ZGxj0nI21kNR"
      },
      "source": [
        "ENDPOINT_ID = 'xxxxxxxxxxxx'  # <---- CHANGE THIS"
      ],
      "execution_count": null,
      "outputs": []
    },
    {
      "cell_type": "code",
      "metadata": {
        "id": "z81lDjyB1L75"
      },
      "source": [
        "!gcloud ai endpoints predict {ENDPOINT_ID} --json-request=input.json"
      ],
      "execution_count": null,
      "outputs": []
    },
    {
      "cell_type": "markdown",
      "metadata": {
        "id": "NGLCM2Lyczfq"
      },
      "source": [
        "## Define Version 2 of the training component\n",
        "\n",
        "This version of the training component uses Vertex AI Custom Training. It does single-node, multiple-GPU training, with— by default— 2 GPUs.\n",
        "\n",
        "A prebuilt custom training container is used, which includes the training code.  You can view the code and [Dockerfile definition](https://github.com/amygdala/code-snippets/blob/master/ml/vertex_pipelines/pytorch/cifar/Dockerfile-gpu-ct) in the [example repo](https://github.com/amygdala/code-snippets/tree/master/ml/vertex_pipelines/pytorch/cifar).\n",
        "\n",
        "So, this component uses the Vertex AI SDK to define and launch the custom training job, then waits for it to complete.\n"
      ]
    },
    {
      "cell_type": "code",
      "metadata": {
        "id": "Mp5yvco0BKEX"
      },
      "source": [
        "@component(\n",
        "    base_image=\"gcr.io/deeplearning-platform-release/tf2-cpu.2-3:latest\",\n",
        "    output_component_file=\"cifar_vertex_train.yaml\",\n",
        "    packages_to_install=[\"google-cloud-aiplatform\"],\n",
        ")\n",
        "def cifar_vertex_train(\n",
        "    project: str,\n",
        "    region: str,\n",
        "    staging_bucket: str,\n",
        "    custom_container_uri: str,\n",
        "    display_name: str,\n",
        "    model_name: str,\n",
        "    max_epochs: int,\n",
        "    num_gpus: int,\n",
        "    accelerator_type: str,\n",
        "    tensorboard_instance: str,\n",
        "    cifar_dataset: Input[Dataset],\n",
        "    cifar_model: Output[Model],\n",
        "):\n",
        "\n",
        "    import logging\n",
        "    import os\n",
        "    import sys\n",
        "    import subprocess\n",
        "\n",
        "    from google.cloud import aiplatform\n",
        "\n",
        "    logging.getLogger().setLevel(logging.INFO)\n",
        "    gs_dataset_path = cifar_dataset.path\n",
        "    gs_model_path = cifar_model.path\n",
        "    gs_dataset_path = gs_dataset_path.replace(\"/gcs/\", \"gs://\")\n",
        "    gs_model_path = gs_model_path.replace(\"/gcs/\", \"gs://\")\n",
        "    logging.info('datset root path: %s', gs_dataset_path)\n",
        "    logging.info('model root path: %s', gs_model_path)\n",
        "\n",
        "    aiplatform.init(\n",
        "        project=project, location=region, \n",
        "        staging_bucket=staging_bucket,\n",
        "    )\n",
        "    custom_job = aiplatform.CustomContainerTrainingJob(\n",
        "        display_name=display_name,\n",
        "        container_uri=custom_container_uri,\n",
        "    )\n",
        "    trainer_args = ['--gcs_tensorboard_root', f\"{gs_model_path}/tensorboard\", '--gcs_checkpoint_dir', \n",
        "                    f\"{gs_model_path}/train/models\", '--gcs_dataset_path', \n",
        "                    gs_dataset_path, '--gcs_mar_dir', f\"{gs_model_path}/model-store\",\n",
        "                    '--vertex_num_gpus', num_gpus, '--vertex_max_epochs', max_epochs,\n",
        "                    '--gcs_tensorboard_instance', tensorboard_instance]\n",
        "    logging.info('trainer_args: %s', trainer_args)                    \n",
        "    custom_model = custom_job.run(\n",
        "        replica_count=1,\n",
        "        args=trainer_args,\n",
        "        sync=False,\n",
        "        machine_type=\"n1-standard-8\",\n",
        "        # accelerator_type='NVIDIA_TESLA_P100',\n",
        "        accelerator_type=accelerator_type,\n",
        "        accelerator_count=int(num_gpus)\n",
        "    )\n"
      ],
      "execution_count": null,
      "outputs": []
    },
    {
      "cell_type": "markdown",
      "metadata": {
        "id": "i7sn4O0Ac471"
      },
      "source": [
        "## Define and run Pipeline Version 2\n",
        "\n",
        "This pipeline differs from Version 1 in the training component, but its other components are otherwise the same.\n",
        "\n",
        "The pipeline will look like this:\n",
        "\n",
        "<a href=\"https://storage.googleapis.com/amy-jo/images/mp/pytorch_train2.png\" target=\"_blank\"><img src=\"https://storage.googleapis.com/amy-jo/images/mp/pytorch_train2.png\" width=\"95%\"/></a>"
      ]
    },
    {
      "cell_type": "code",
      "metadata": {
        "id": "FzVY6CYBdMl9"
      },
      "source": [
        "from datetime import datetime\n",
        "ts = datetime.now().strftime(\"%Y%m%d%H%M%S\")\n",
        "MODEL_NAME = f'resnet{ts}'\n",
        "PORT = 8080\n",
        "MAR_MODEL_NAME = 'cifar10'"
      ],
      "execution_count": null,
      "outputs": []
    },
    {
      "cell_type": "code",
      "metadata": {
        "id": "Y-O9o2HSdMl-"
      },
      "source": [
        "print(MODEL_NAME)"
      ],
      "execution_count": null,
      "outputs": []
    },
    {
      "cell_type": "code",
      "metadata": {
        "id": "zSV_e1L4dtRJ"
      },
      "source": [
        "\n",
        "@dsl.pipeline(\n",
        "    name=\"pytorch-cifar-customtrain-pipeline\",\n",
        "    pipeline_root=PIPELINE_ROOT,\n",
        ")\n",
        "def pytorch_cifar_pipeline(\n",
        "    project: str = PROJECT_ID,\n",
        "    region: str = REGION,\n",
        "    staging_bucket: str = PIPELINE_ROOT,\n",
        "    model_name: str = \"resnet.pth\",\n",
        "    model_display_name: str = MODEL_NAME,\n",
        "    max_epochs: int = 1,\n",
        "    mar_model_name: str = MAR_MODEL_NAME,\n",
        "    handler: str = \"image_classifier\",\n",
        "    version: str = \"1.0\",\n",
        "    port: int = PORT,\n",
        "    num_train_gpus: int = 2,\n",
        "    accelerator_train_type: str = 'NVIDIA_TESLA_P100',\n",
        "    tensorboard_instance: str = '',\n",
        "    custom_container_uri: str = 'gcr.io/google-samples/pytorch-pl-gpu-ct:v4',\n",
        "):\n",
        "    cifar_config_task = cifar_config(mar_model_name, version, port)\n",
        "    cifar_preproc_task = cifar_preproc()\n",
        "\n",
        "    cifar_train_task = cifar_vertex_train(\n",
        "        project=project,\n",
        "        region=region,\n",
        "        staging_bucket=staging_bucket,\n",
        "        custom_container_uri=custom_container_uri,\n",
        "        display_name = model_display_name,\n",
        "        model_name=model_name,\n",
        "        max_epochs=max_epochs,\n",
        "        num_gpus=num_train_gpus,\n",
        "        accelerator_type=accelerator_train_type,\n",
        "        tensorboard_instance=tensorboard_instance,\n",
        "        cifar_dataset=cifar_preproc_task.outputs[\"cifar_dataset\"],\n",
        "    )\n",
        "\n",
        "    cifar_mar_task = generate_mar_file(\n",
        "        model_name,\n",
        "        mar_model_name,\n",
        "        handler,\n",
        "        version,\n",
        "        cifar_train_task.outputs[\"cifar_model\"],\n",
        "    )\n",
        "\n",
        "    build_image_task = build_torchserve_image(\n",
        "        mar_model_name, cifar_mar_task.outputs[\"cifar_mar\"], \n",
        "        cifar_config_task.outputs['cifar_config'],\n",
        "        project\n",
        "    )\n",
        "\n",
        "    model_upload_op = gcc_aip.ModelUploadOp(\n",
        "        project=project,\n",
        "        display_name=model_display_name,\n",
        "        serving_container_image_uri=build_image_task.outputs['serving_container_uri'],\n",
        "        serving_container_predict_route=\"/predictions/{}\".format(MAR_MODEL_NAME),\n",
        "        serving_container_health_route=\"/ping\",\n",
        "        serving_container_ports=[PORT]        \n",
        "    )\n",
        "    \n",
        "    endpoint_create_op = gcc_aip.EndpointCreateOp(\n",
        "        project=project,\n",
        "        display_name=model_display_name,\n",
        "    )\n",
        "\n",
        "    model_deploy_op = gcc_aip.ModelDeployOp(\n",
        "        project=project,\n",
        "        endpoint=endpoint_create_op.outputs[\"endpoint\"],\n",
        "        model=model_upload_op.outputs[\"model\"],\n",
        "        deployed_model_display_name=model_display_name,\n",
        "        machine_type=\"n1-standard-4\",\n",
        "        accelerator_type='NVIDIA_TESLA_P100',\n",
        "        accelerator_count=1        \n",
        "    )\n",
        "\n"
      ],
      "execution_count": null,
      "outputs": []
    },
    {
      "cell_type": "markdown",
      "metadata": {
        "id": "HIt-SWuzimj1"
      },
      "source": [
        "Compile the pipeline:"
      ]
    },
    {
      "cell_type": "code",
      "metadata": {
        "id": "bxDW3sbld4Af"
      },
      "source": [
        "from kfp.v2 import compiler as v2compiler\n",
        "v2compiler.Compiler().compile(pipeline_func=pytorch_cifar_pipeline,\n",
        "                              package_path='pytorch_ct_pipeline_spec.json')"
      ],
      "execution_count": null,
      "outputs": []
    },
    {
      "cell_type": "markdown",
      "metadata": {
        "id": "7LHXUBo0io33"
      },
      "source": [
        "Create a pipelines client object:"
      ]
    },
    {
      "cell_type": "code",
      "metadata": {
        "id": "D542Ic0Md4Af"
      },
      "source": [
        "from kfp.v2.google.client import AIPlatformClient  # noqa: F811\n",
        "\n",
        "api_client = AIPlatformClient(\n",
        "    project_id=PROJECT_ID, \n",
        "    region=REGION, \n",
        "    )"
      ],
      "execution_count": null,
      "outputs": []
    },
    {
      "cell_type": "markdown",
      "metadata": {
        "id": "yEakKj3VhBHS"
      },
      "source": [
        "**Edit the following cell** if you would like to upload training logs to a Vertex Tensorboard instance.  See the \"Pipeline Version 1\" section on Vertex TensorBoard for more information."
      ]
    },
    {
      "cell_type": "code",
      "metadata": {
        "id": "-Z5T6EVPhBHT"
      },
      "source": [
        "TENSORBOARD_INSTANCE = 'projects/123/locations/us-central1/tensorboards/456' # CHANGE THIS TO YOUR INSTANCE NAME"
      ],
      "execution_count": null,
      "outputs": []
    },
    {
      "cell_type": "markdown",
      "metadata": {
        "id": "55DesCRnhBHT"
      },
      "source": [
        "Run the pipeline.  If you set up a tensorboard instance, **edit the cell above to your instance name, then uncomment the `tensorboard_instance` line below before evaluating the cell.**"
      ]
    },
    {
      "cell_type": "code",
      "metadata": {
        "id": "40zCNoDQd4Af"
      },
      "source": [
        "result = api_client.create_run_from_job_spec(\n",
        "    job_spec_path=\"pytorch_ct_pipeline_spec.json\",\n",
        "    pipeline_root=PIPELINE_ROOT,\n",
        "    # enable_caching=False,\n",
        "    parameter_values={\n",
        "        \"model_name\": \"resnet.pth\", \"max_epochs\": 5,\n",
        "        \"project\": PROJECT_ID, \"model_display_name\": MODEL_NAME,\n",
        "        \"num_train_gpus\": 2,\n",
        "        \"custom_container_uri\": 'gcr.io/google-samples/pytorch-pl-gpu-ct:v4',\n",
        "        # \"tensorboard_instance\": TENSORBOARD_INSTANCE\n",
        "    },\n",
        ")"
      ],
      "execution_count": null,
      "outputs": []
    },
    {
      "cell_type": "markdown",
      "metadata": {
        "id": "20694v0Xirqg"
      },
      "source": [
        "You can view the running pipeline in the Cloud Console by following the generated link above.\n",
        "\n",
        "You can send prediction requests to the deployed model in the same way as described above for the 'Version 1' pipeline."
      ]
    },
    {
      "cell_type": "markdown",
      "metadata": {
        "id": "QCX8i9LegK3C"
      },
      "source": [
        "### Viewing model training information using TensorBoard\n",
        "\n",
        "See the TensorBoard sections above for 'Pipeline Version 1', for information on using TensorBoard.  For this version, the TensorBoard *experiment* won't be created until training has completed."
      ]
    },
    {
      "cell_type": "markdown",
      "metadata": {
        "id": "7Kn1IRu71Mc6"
      },
      "source": [
        "## Cleanup\n",
        "\n",
        "When you're done with the example, you may want to undeploy your model.  One way to do this is via the Cloud Console: visit the 'Vertex AI > Endpoints' panel, click on the endpoint(s) to which your model(s) were deployed, and delete those models.  Once the models are deleted, you can delete the endpoints as well.\n",
        "\n",
        "Then, visit the 'Vertex AI > Notebooks' panel and remove the \"tensorboard notebook\" created by the pipeline.\n",
        "\n",
        "You may also want to do other cleanup by removing the GCS artifacts used by the pipeline and by removing the GCR image builds."
      ]
    },
    {
      "cell_type": "markdown",
      "metadata": {
        "id": "BqUshOeR29kg"
      },
      "source": [
        "\n",
        "\n",
        "---\n",
        "\n",
        "Copyright 2021 Google LLC\n",
        "\n",
        "Licensed under the Apache License, Version 2.0 (the \"License\");\n",
        "you may not use this file except in compliance with the License.\n",
        "You may obtain a copy of the License at\n",
        "\n",
        "    https://www.apache.org/licenses/LICENSE-2.0\n",
        "\n",
        "Unless required by applicable law or agreed to in writing, software\n",
        "distributed under the License is distributed on an \"AS IS\" BASIS,\n",
        "WITHOUT WARRANTIES OR CONDITIONS OF ANY KIND, either express or implied.\n",
        "See the License for the specific language governing permissions and\n",
        "limitations under the License.\n"
      ]
    }
  ]
}